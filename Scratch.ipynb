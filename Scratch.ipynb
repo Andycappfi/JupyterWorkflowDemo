{
 "cells": [
  {
   "cell_type": "code",
   "execution_count": 5,
   "metadata": {},
   "outputs": [],
   "source": [
    "from jupyterworkflow.data import get_fremont_data\n",
    "import pandas as pd\n",
    "\n",
    "def test_fremont_data():\n",
    "    data = get_fremont_data()\n",
    "    assert all(data.columns == [\"West\", \"East\", \"Total\"])\n",
    "    assert isinstance(data.index, pd.DatetimeIndex)"
   ]
  },
  {
   "cell_type": "code",
   "execution_count": 6,
   "metadata": {},
   "outputs": [],
   "source": [
    "test_fremont_data()"
   ]
  },
  {
   "cell_type": "code",
   "execution_count": 13,
   "metadata": {},
   "outputs": [
    {
     "data": {
      "text/plain": [
       "Index(['10/03/2012 12:00:00 AM', '10/03/2012 01:00:00 AM',\n",
       "       '10/03/2012 02:00:00 AM', '10/03/2012 03:00:00 AM',\n",
       "       '10/03/2012 04:00:00 AM', '10/03/2012 05:00:00 AM',\n",
       "       '10/03/2012 06:00:00 AM', '10/03/2012 07:00:00 AM',\n",
       "       '10/03/2012 08:00:00 AM', '10/03/2012 09:00:00 AM',\n",
       "       ...\n",
       "       '05/31/2018 02:00:00 PM', '05/31/2018 03:00:00 PM',\n",
       "       '05/31/2018 04:00:00 PM', '05/31/2018 05:00:00 PM',\n",
       "       '05/31/2018 06:00:00 PM', '05/31/2018 07:00:00 PM',\n",
       "       '05/31/2018 08:00:00 PM', '05/31/2018 09:00:00 PM',\n",
       "       '05/31/2018 10:00:00 PM', '05/31/2018 11:00:00 PM'],\n",
       "      dtype='object', name='Date', length=49608)"
      ]
     },
     "execution_count": 13,
     "metadata": {},
     "output_type": "execute_result"
    }
   ],
   "source": [
    "data = pd.read_csv(\"Fremont.csv\", index_col='Date')\n",
    "try:\n",
    "    data.index = pd.to_datetime(data.index, format=\"%m/%d/%Y %H:%M:%S %p\" )\n",
    "except TypeError:\n",
    "    data.index = pd.todatetime(data.index) \n",
    "    data.index\n"
   ]
  },
  {
   "cell_type": "code",
   "execution_count": null,
   "metadata": {
    "collapsed": true
   },
   "outputs": [],
   "source": [
    "data.columns = [\"West\", \"East\"]\n",
    "data['Total'] = data['West'] + data['East']"
   ]
  }
 ],
 "metadata": {
  "kernelspec": {
   "display_name": "Python 3",
   "language": "python",
   "name": "python3"
  },
  "language_info": {
   "codemirror_mode": {
    "name": "ipython",
    "version": 3
   },
   "file_extension": ".py",
   "mimetype": "text/x-python",
   "name": "python",
   "nbconvert_exporter": "python",
   "pygments_lexer": "ipython3",
   "version": "3.6.3"
  }
 },
 "nbformat": 4,
 "nbformat_minor": 2
}
